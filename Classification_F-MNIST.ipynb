{
 "cells": [
  {
   "cell_type": "markdown",
   "metadata": {},
   "source": [
    "### A MNIST-like fashion product database\n",
    "\n",
    "In this, we classify the images into respective classes given in the dataset. We use a Neural Net and a Deep Neural Net in Keras to solve this and check the accuracy scores."
   ]
  },
  {
   "cell_type": "markdown",
   "metadata": {
    "slideshow": {
     "slide_type": "slide"
    }
   },
   "source": [
    "### Load tensorflow"
   ]
  },
  {
   "cell_type": "code",
   "execution_count": 18,
   "metadata": {},
   "outputs": [],
   "source": [
    "import numpy as np"
   ]
  },
  {
   "cell_type": "code",
   "execution_count": 1,
   "metadata": {},
   "outputs": [],
   "source": [
    "import tensorflow as tf\n",
    "tf.set_random_seed(42)\n",
    "tf.reset_default_graph()"
   ]
  },
  {
   "cell_type": "code",
   "execution_count": 2,
   "metadata": {},
   "outputs": [
    {
     "data": {
      "text/plain": [
       "'1.10.0'"
      ]
     },
     "execution_count": 2,
     "metadata": {},
     "output_type": "execute_result"
    }
   ],
   "source": [
    "tf.__version__"
   ]
  },
  {
   "cell_type": "markdown",
   "metadata": {
    "slideshow": {
     "slide_type": "slide"
    }
   },
   "source": [
    "### Collect Data"
   ]
  },
  {
   "cell_type": "code",
   "execution_count": 3,
   "metadata": {},
   "outputs": [
    {
     "name": "stderr",
     "output_type": "stream",
     "text": [
      "Using TensorFlow backend.\n"
     ]
    }
   ],
   "source": [
    "import keras"
   ]
  },
  {
   "cell_type": "code",
   "execution_count": 4,
   "metadata": {},
   "outputs": [],
   "source": [
    "(trainX, trainY), (testX, testY) = keras.datasets.fashion_mnist.load_data()"
   ]
  },
  {
   "cell_type": "code",
   "execution_count": 5,
   "metadata": {
    "slideshow": {
     "slide_type": "fragment"
    }
   },
   "outputs": [
    {
     "name": "stdout",
     "output_type": "stream",
     "text": [
      "[9 2 1 1 6]\n"
     ]
    }
   ],
   "source": [
    "print(testY[0:5])"
   ]
  },
  {
   "cell_type": "markdown",
   "metadata": {
    "slideshow": {
     "slide_type": "slide"
    }
   },
   "source": [
    "### Convert both training and testing labels into one-hot vectors.\n",
    "\n",
    "**Hint:** check **tf.keras.utils.to_categorical()**"
   ]
  },
  {
   "cell_type": "code",
   "execution_count": 6,
   "metadata": {},
   "outputs": [],
   "source": [
    "trainY = tf.keras.utils.to_categorical(trainY, num_classes=10)\n",
    "testY = tf.keras.utils.to_categorical(testY, num_classes=10)"
   ]
  },
  {
   "cell_type": "code",
   "execution_count": 7,
   "metadata": {},
   "outputs": [
    {
     "name": "stdout",
     "output_type": "stream",
     "text": [
      "(60000, 10)\n"
     ]
    }
   ],
   "source": [
    "print(trainY.shape)"
   ]
  },
  {
   "cell_type": "code",
   "execution_count": 8,
   "metadata": {},
   "outputs": [
    {
     "name": "stdout",
     "output_type": "stream",
     "text": [
      "First 5 examples now are:  [[0. 0. 0. 0. 0. 0. 0. 0. 0. 1.]\n",
      " [1. 0. 0. 0. 0. 0. 0. 0. 0. 0.]\n",
      " [1. 0. 0. 0. 0. 0. 0. 0. 0. 0.]\n",
      " [0. 0. 0. 1. 0. 0. 0. 0. 0. 0.]\n",
      " [1. 0. 0. 0. 0. 0. 0. 0. 0. 0.]]\n"
     ]
    }
   ],
   "source": [
    "print('First 5 examples now are: ', trainY[0:5])"
   ]
  },
  {
   "cell_type": "markdown",
   "metadata": {},
   "source": [
    "#### Expected Output should look like this"
   ]
  },
  {
   "cell_type": "code",
   "execution_count": 42,
   "metadata": {
    "scrolled": false,
    "slideshow": {
     "slide_type": "fragment"
    }
   },
   "outputs": [
    {
     "name": "stdout",
     "output_type": "stream",
     "text": [
      "(60000, 10)\n",
      "('First 5 examples now are: ', array([[0., 0., 0., 0., 0., 0., 0., 0., 0., 1.],\n",
      "       [1., 0., 0., 0., 0., 0., 0., 0., 0., 0.],\n",
      "       [1., 0., 0., 0., 0., 0., 0., 0., 0., 0.],\n",
      "       [0., 0., 0., 1., 0., 0., 0., 0., 0., 0.],\n",
      "       [1., 0., 0., 0., 0., 0., 0., 0., 0., 0.]]))\n"
     ]
    }
   ],
   "source": [
    "print(trainY.shape)\n",
    "print('First 5 examples now are: ', trainY[0:5])"
   ]
  },
  {
   "cell_type": "markdown",
   "metadata": {},
   "source": [
    "### Visualize the data\n",
    "\n",
    "Plot first 10 images in the triaining set and their labels."
   ]
  },
  {
   "cell_type": "code",
   "execution_count": 28,
   "metadata": {},
   "outputs": [
    {
     "name": "stdout",
     "output_type": "stream",
     "text": [
      "9\n",
      "0\n",
      "0\n",
      "3\n",
      "0\n",
      "2\n",
      "7\n",
      "2\n",
      "5\n",
      "5\n"
     ]
    },
    {
     "data": {
      "image/png": "[encoded data removed]",
      "text/plain": [
       "<Figure size 432x288 with 10 Axes>"
      ]
     },
     "metadata": {
      "needs_background": "light"
     },
     "output_type": "display_data"
    }
   ],
   "source": [
    "\n",
    "import matplotlib.pyplot as plt\n",
    "\n",
    "for i in range (1,11):\n",
    "    first_array=trainX[i-1]\n",
    "    plt.subplot(1,10,i)\n",
    "    plt.imshow(first_array,cmap='Greys')\n",
    "    label = trainY[i-1].tolist()\n",
    "    print(label.index(1))\n",
    "plt.show()\n",
    "\n",
    "\n"
   ]
  },
  {
   "cell_type": "code",
   "execution_count": 77,
   "metadata": {
    "scrolled": true
   },
   "outputs": [
    {
     "data": {
      "image/png": "[encoded data removed]",
      "text/plain": [
       "<matplotlib.figure.Figure at 0x7f60784a5950>"
      ]
     },
     "metadata": {},
     "output_type": "display_data"
    },
    {
     "name": "stdout",
     "output_type": "stream",
     "text": [
      "label for each of the above image:\n",
      "9 0 0 3 0 2 7 2 5 5\n"
     ]
    }
   ],
   "source": [
    "\n",
    "\n",
    "#### Expected Output"
   ]
  },
  {
   "cell_type": "markdown",
   "metadata": {
    "slideshow": {
     "slide_type": "slide"
    }
   },
   "source": [
    "### Build a neural Network with a cross entropy loss function and sgd optimizer in Keras. The output layer with 10 neurons as we have 10 classes."
   ]
  },
  {
   "cell_type": "code",
   "execution_count": 17,
   "metadata": {},
   "outputs": [],
   "source": [
    "#Initialize Sequential model\n",
    "model = tf.keras.models.Sequential()\n",
    "\n",
    "#Reshape data from 2D to 1D -> 28x28 to 784\n",
    "model.add(tf.keras.layers.Reshape((784,),input_shape=(28,28,)))\n",
    "\n",
    "#Normalize the data\n",
    "#model.add(tf.keras.layers.BatchNormalization())"
   ]
  },
  {
   "cell_type": "code",
   "execution_count": 18,
   "metadata": {},
   "outputs": [],
   "source": [
    "#Add 1st hidden layer\n",
    "#model.add(tf.keras.layers.Dense(200, activation='sigmoid'))"
   ]
  },
  {
   "cell_type": "code",
   "execution_count": 19,
   "metadata": {},
   "outputs": [],
   "source": [
    "#Add 2nd hidden layer\n",
    "#model.add(tf.keras.layers.Dense(100, activation='sigmoid'))"
   ]
  },
  {
   "cell_type": "code",
   "execution_count": 20,
   "metadata": {},
   "outputs": [],
   "source": [
    "#Add 3rd hidden layer\n",
    "#model.add(tf.keras.layers.Dense(60, activation='sigmoid'))"
   ]
  },
  {
   "cell_type": "code",
   "execution_count": 21,
   "metadata": {},
   "outputs": [],
   "source": [
    "#Add 4th hidden layer\n",
    "#model.add(tf.keras.layers.Dense(30, activation='sigmoid'))"
   ]
  },
  {
   "cell_type": "code",
   "execution_count": 22,
   "metadata": {},
   "outputs": [],
   "source": [
    "#Add OUTPUT layer\n",
    "model.add(tf.keras.layers.Dense(10, activation='softmax'))"
   ]
  },
  {
   "cell_type": "code",
   "execution_count": 26,
   "metadata": {},
   "outputs": [],
   "source": [
    "#Compile the model\n",
    "sgd_optimizer = tf.keras.optimizers.SGD()\n",
    "model.compile(optimizer=sgd_optimizer, loss='categorical_crossentropy', metrics=['accuracy'])"
   ]
  },
  {
   "cell_type": "code",
   "execution_count": null,
   "metadata": {},
   "outputs": [],
   "source": []
  },
  {
   "cell_type": "markdown",
   "metadata": {
    "slideshow": {
     "slide_type": "slide"
    }
   },
   "source": [
    "### Execute the model using model.fit()"
   ]
  },
  {
   "cell_type": "code",
   "execution_count": 27,
   "metadata": {},
   "outputs": [
    {
     "name": "stdout",
     "output_type": "stream",
     "text": [
      "Train on 60000 samples, validate on 10000 samples\n",
      "Epoch 1/30\n",
      "60000/60000 [==============================] - 3s 46us/step - loss: 13.2897 - acc: 0.1754 - val_loss: 12.9170 - val_acc: 0.1986\n",
      "Epoch 2/30\n",
      "60000/60000 [==============================] - 2s 38us/step - loss: 12.9062 - acc: 0.1993 - val_loss: 12.9041 - val_acc: 0.1994\n",
      "Epoch 3/30\n",
      "60000/60000 [==============================] - 2s 37us/step - loss: 12.9004 - acc: 0.1996 - val_loss: 12.9041 - val_acc: 0.1994\n",
      "Epoch 4/30\n",
      "60000/60000 [==============================] - 2s 38us/step - loss: 12.9004 - acc: 0.1996 - val_loss: 12.9041 - val_acc: 0.1994\n",
      "Epoch 5/30\n",
      "60000/60000 [==============================] - 2s 38us/step - loss: 12.9004 - acc: 0.1996 - val_loss: 12.9041 - val_acc: 0.1994\n",
      "Epoch 6/30\n",
      "60000/60000 [==============================] - 3s 48us/step - loss: 12.9004 - acc: 0.1996 - val_loss: 12.9041 - val_acc: 0.1994\n",
      "Epoch 7/30\n",
      "60000/60000 [==============================] - 2s 40us/step - loss: 12.9004 - acc: 0.1996 - val_loss: 12.9041 - val_acc: 0.1994\n",
      "Epoch 8/30\n",
      "60000/60000 [==============================] - 2s 38us/step - loss: 12.9004 - acc: 0.1996 - val_loss: 12.9041 - val_acc: 0.1994\n",
      "Epoch 9/30\n",
      "60000/60000 [==============================] - 2s 38us/step - loss: 12.9004 - acc: 0.1996 - val_loss: 12.9041 - val_acc: 0.1994\n",
      "Epoch 10/30\n",
      "60000/60000 [==============================] - 2s 38us/step - loss: 12.9004 - acc: 0.1996 - val_loss: 12.9041 - val_acc: 0.1994\n",
      "Epoch 11/30\n",
      "60000/60000 [==============================] - 2s 38us/step - loss: 12.9004 - acc: 0.1996 - val_loss: 12.9041 - val_acc: 0.1994\n",
      "Epoch 12/30\n",
      "60000/60000 [==============================] - 2s 38us/step - loss: 12.9004 - acc: 0.1996 - val_loss: 12.9041 - val_acc: 0.1994\n",
      "Epoch 13/30\n",
      "60000/60000 [==============================] - 3s 45us/step - loss: 12.9004 - acc: 0.1996 - val_loss: 12.9041 - val_acc: 0.1994\n",
      "Epoch 14/30\n",
      "60000/60000 [==============================] - 2s 40us/step - loss: 12.9004 - acc: 0.1996 - val_loss: 12.9041 - val_acc: 0.1994\n",
      "Epoch 15/30\n",
      "60000/60000 [==============================] - 2s 38us/step - loss: 12.9004 - acc: 0.1996 - val_loss: 12.9041 - val_acc: 0.1994\n",
      "Epoch 16/30\n",
      "60000/60000 [==============================] - 2s 38us/step - loss: 12.9004 - acc: 0.1996 - val_loss: 12.9041 - val_acc: 0.1994\n",
      "Epoch 17/30\n",
      "60000/60000 [==============================] - 2s 39us/step - loss: 12.9004 - acc: 0.1996 - val_loss: 12.9041 - val_acc: 0.1994\n",
      "Epoch 18/30\n",
      "60000/60000 [==============================] - 2s 39us/step - loss: 12.9004 - acc: 0.1996 - val_loss: 12.9041 - val_acc: 0.1994\n",
      "Epoch 19/30\n",
      "60000/60000 [==============================] - 2s 41us/step - loss: 12.9004 - acc: 0.1996 - val_loss: 12.9041 - val_acc: 0.1994\n",
      "Epoch 20/30\n",
      "60000/60000 [==============================] - 3s 45us/step - loss: 12.9004 - acc: 0.1996 - val_loss: 12.9041 - val_acc: 0.1994\n",
      "Epoch 21/30\n",
      "60000/60000 [==============================] - 2s 39us/step - loss: 12.9004 - acc: 0.1996 - val_loss: 12.9041 - val_acc: 0.1994\n",
      "Epoch 22/30\n",
      "60000/60000 [==============================] - 2s 39us/step - loss: 12.9004 - acc: 0.1996 - val_loss: 12.9041 - val_acc: 0.1994\n",
      "Epoch 23/30\n",
      "60000/60000 [==============================] - 2s 39us/step - loss: 12.9004 - acc: 0.1996 - val_loss: 12.9041 - val_acc: 0.1994\n",
      "Epoch 24/30\n",
      "60000/60000 [==============================] - 2s 39us/step - loss: 12.9004 - acc: 0.1996 - val_loss: 12.9041 - val_acc: 0.1994\n",
      "Epoch 25/30\n",
      "60000/60000 [==============================] - 2s 39us/step - loss: 12.9004 - acc: 0.1996 - val_loss: 12.9041 - val_acc: 0.1994\n",
      "Epoch 26/30\n",
      "60000/60000 [==============================] - 3s 44us/step - loss: 12.9004 - acc: 0.1996 - val_loss: 12.9041 - val_acc: 0.1994\n",
      "Epoch 27/30\n",
      "60000/60000 [==============================] - 3s 42us/step - loss: 12.9004 - acc: 0.1996 - val_loss: 12.9041 - val_acc: 0.1994\n",
      "Epoch 28/30\n",
      "60000/60000 [==============================] - 2s 39us/step - loss: 12.9004 - acc: 0.1996 - val_loss: 12.9041 - val_acc: 0.1994\n",
      "Epoch 29/30\n",
      "60000/60000 [==============================] - 2s 39us/step - loss: 12.9004 - acc: 0.1996 - val_loss: 12.9041 - val_acc: 0.1994\n",
      "Epoch 30/30\n",
      "60000/60000 [==============================] - 2s 39us/step - loss: 12.9004 - acc: 0.1996 - val_loss: 12.9041 - val_acc: 0.1994\n"
     ]
    },
    {
     "data": {
      "text/plain": [
       "<tensorflow.python.keras.callbacks.History at 0x24f7a304438>"
      ]
     },
     "execution_count": 27,
     "metadata": {},
     "output_type": "execute_result"
    }
   ],
   "source": [
    "model.fit(trainX,trainY,          \n",
    "          validation_data=(testX,testY),\n",
    "          epochs=30,\n",
    "          batch_size=32)"
   ]
  },
  {
   "cell_type": "markdown",
   "metadata": {
    "slideshow": {
     "slide_type": "slide"
    }
   },
   "source": [
    "### In the above Neural Network model add Batch Normalization layer after the input layer and repeat the steps."
   ]
  },
  {
   "cell_type": "code",
   "execution_count": 28,
   "metadata": {},
   "outputs": [],
   "source": [
    "#Initialize Sequential model\n",
    "model = tf.keras.models.Sequential()\n",
    "\n",
    "#Reshape data from 2D to 1D -> 28x28 to 784\n",
    "model.add(tf.keras.layers.Reshape((784,),input_shape=(28,28,)))\n",
    "\n",
    "#Normalize the data\n",
    "model.add(tf.keras.layers.BatchNormalization())"
   ]
  },
  {
   "cell_type": "code",
   "execution_count": 29,
   "metadata": {},
   "outputs": [],
   "source": [
    "#Add 1st hidden layer\n",
    "#model.add(tf.keras.layers.Dense(200, activation='sigmoid'))"
   ]
  },
  {
   "cell_type": "code",
   "execution_count": 30,
   "metadata": {},
   "outputs": [],
   "source": [
    "#Add 2nd hidden layer\n",
    "#model.add(tf.keras.layers.Dense(100, activation='sigmoid'))"
   ]
  },
  {
   "cell_type": "code",
   "execution_count": 31,
   "metadata": {},
   "outputs": [],
   "source": [
    "#Add 3rd hidden layer\n",
    "#model.add(tf.keras.layers.Dense(60, activation='sigmoid'))"
   ]
  },
  {
   "cell_type": "code",
   "execution_count": 32,
   "metadata": {},
   "outputs": [],
   "source": [
    "#Add 4th hidden layer\n",
    "#model.add(tf.keras.layers.Dense(30, activation='sigmoid'))"
   ]
  },
  {
   "cell_type": "code",
   "execution_count": 33,
   "metadata": {},
   "outputs": [],
   "source": [
    "#Add OUTPUT layer\n",
    "model.add(tf.keras.layers.Dense(10, activation='softmax'))"
   ]
  },
  {
   "cell_type": "markdown",
   "metadata": {
    "slideshow": {
     "slide_type": "slide"
    }
   },
   "source": [
    "### Execute the model"
   ]
  },
  {
   "cell_type": "code",
   "execution_count": 34,
   "metadata": {},
   "outputs": [],
   "source": [
    "#Compile the model\n",
    "sgd_optimizer = tf.keras.optimizers.SGD()\n",
    "model.compile(optimizer=sgd_optimizer, loss='categorical_crossentropy', metrics=['accuracy'])"
   ]
  },
  {
   "cell_type": "code",
   "execution_count": 35,
   "metadata": {},
   "outputs": [
    {
     "name": "stdout",
     "output_type": "stream",
     "text": [
      "Train on 60000 samples, validate on 10000 samples\n",
      "Epoch 1/30\n",
      "60000/60000 [==============================] - 4s 74us/step - loss: 0.5992 - acc: 0.7934 - val_loss: 0.5157 - val_acc: 0.8218\n",
      "Epoch 2/30\n",
      "60000/60000 [==============================] - 4s 70us/step - loss: 0.4912 - acc: 0.8311 - val_loss: 0.4927 - val_acc: 0.8326\n",
      "Epoch 3/30\n",
      "60000/60000 [==============================] - 4s 64us/step - loss: 0.4694 - acc: 0.8383 - val_loss: 0.4828 - val_acc: 0.8313\n",
      "Epoch 4/30\n",
      "60000/60000 [==============================] - 4s 68us/step - loss: 0.4574 - acc: 0.8436 - val_loss: 0.4761 - val_acc: 0.8360\n",
      "Epoch 5/30\n",
      "60000/60000 [==============================] - 4s 67us/step - loss: 0.4482 - acc: 0.8456 - val_loss: 0.4774 - val_acc: 0.8374\n",
      "Epoch 6/30\n",
      "60000/60000 [==============================] - 4s 64us/step - loss: 0.4435 - acc: 0.8469 - val_loss: 0.4801 - val_acc: 0.8386\n",
      "Epoch 7/30\n",
      "60000/60000 [==============================] - 4s 64us/step - loss: 0.4389 - acc: 0.8488 - val_loss: 0.4742 - val_acc: 0.8383\n",
      "Epoch 8/30\n",
      "60000/60000 [==============================] - 4s 69us/step - loss: 0.4355 - acc: 0.8498 - val_loss: 0.4672 - val_acc: 0.8383\n",
      "Epoch 9/30\n",
      "60000/60000 [==============================] - 4s 68us/step - loss: 0.4332 - acc: 0.8496 - val_loss: 0.4750 - val_acc: 0.8380\n",
      "Epoch 10/30\n",
      "60000/60000 [==============================] - 4s 65us/step - loss: 0.4313 - acc: 0.8506 - val_loss: 0.4603 - val_acc: 0.8411\n",
      "Epoch 11/30\n",
      "60000/60000 [==============================] - 4s 65us/step - loss: 0.4294 - acc: 0.8498 - val_loss: 0.4731 - val_acc: 0.8397\n",
      "Epoch 12/30\n",
      "60000/60000 [==============================] - 4s 70us/step - loss: 0.4249 - acc: 0.8530 - val_loss: 0.4672 - val_acc: 0.8392\n",
      "Epoch 13/30\n",
      "60000/60000 [==============================] - 4s 70us/step - loss: 0.4245 - acc: 0.8519 - val_loss: 0.4676 - val_acc: 0.8405\n",
      "Epoch 14/30\n",
      "60000/60000 [==============================] - 4s 67us/step - loss: 0.4233 - acc: 0.8525 - val_loss: 0.4650 - val_acc: 0.8412\n",
      "Epoch 15/30\n",
      "60000/60000 [==============================] - 4s 66us/step - loss: 0.4216 - acc: 0.8530 - val_loss: 0.4709 - val_acc: 0.8403\n",
      "Epoch 16/30\n",
      "60000/60000 [==============================] - 5s 76us/step - loss: 0.4196 - acc: 0.8545 - val_loss: 0.4664 - val_acc: 0.8398\n",
      "Epoch 17/30\n",
      "60000/60000 [==============================] - 4s 68us/step - loss: 0.4218 - acc: 0.8513 - val_loss: 0.4638 - val_acc: 0.8378\n",
      "Epoch 18/30\n",
      "60000/60000 [==============================] - 4s 66us/step - loss: 0.4185 - acc: 0.8537 - val_loss: 0.4708 - val_acc: 0.8411\n",
      "Epoch 19/30\n",
      "60000/60000 [==============================] - 4s 66us/step - loss: 0.4162 - acc: 0.8543 - val_loss: 0.4615 - val_acc: 0.8422\n",
      "Epoch 20/30\n",
      "60000/60000 [==============================] - 5s 79us/step - loss: 0.4179 - acc: 0.8533 - val_loss: 0.4679 - val_acc: 0.8403\n",
      "Epoch 21/30\n",
      "60000/60000 [==============================] - 4s 75us/step - loss: 0.4137 - acc: 0.8563 - val_loss: 0.4661 - val_acc: 0.8403\n",
      "Epoch 22/30\n",
      "60000/60000 [==============================] - 4s 66us/step - loss: 0.4150 - acc: 0.8563 - val_loss: 0.4678 - val_acc: 0.8421\n",
      "Epoch 23/30\n",
      "60000/60000 [==============================] - 4s 67us/step - loss: 0.4151 - acc: 0.8546 - val_loss: 0.4693 - val_acc: 0.8398\n",
      "Epoch 24/30\n",
      "60000/60000 [==============================] - 4s 74us/step - loss: 0.4143 - acc: 0.8541 - val_loss: 0.4673 - val_acc: 0.8404\n",
      "Epoch 25/30\n",
      "60000/60000 [==============================] - 4s 68us/step - loss: 0.4130 - acc: 0.8556 - val_loss: 0.4730 - val_acc: 0.8394\n",
      "Epoch 26/30\n",
      "60000/60000 [==============================] - 4s 68us/step - loss: 0.4108 - acc: 0.8556 - val_loss: 0.4678 - val_acc: 0.8413\n",
      "Epoch 27/30\n",
      "60000/60000 [==============================] - 4s 68us/step - loss: 0.4135 - acc: 0.8553 - val_loss: 0.4587 - val_acc: 0.8437\n",
      "Epoch 28/30\n",
      "60000/60000 [==============================] - 4s 74us/step - loss: 0.4098 - acc: 0.8560 - val_loss: 0.4631 - val_acc: 0.8421\n",
      "Epoch 29/30\n",
      "60000/60000 [==============================] - 4s 69us/step - loss: 0.4138 - acc: 0.8548 - val_loss: 0.4555 - val_acc: 0.8458\n",
      "Epoch 30/30\n",
      "60000/60000 [==============================] - 4s 73us/step - loss: 0.4112 - acc: 0.8548 - val_loss: 0.4597 - val_acc: 0.8444\n"
     ]
    },
    {
     "data": {
      "text/plain": [
       "<tensorflow.python.keras.callbacks.History at 0x24f7a3d35f8>"
      ]
     },
     "execution_count": 35,
     "metadata": {},
     "output_type": "execute_result"
    }
   ],
   "source": [
    "model.fit(trainX,trainY,          \n",
    "          validation_data=(testX,testY),\n",
    "          epochs=30,\n",
    "          batch_size=32)"
   ]
  },
  {
   "cell_type": "markdown",
   "metadata": {},
   "source": [
    "### Customize the learning rate to 0.001 in sgd optimizer and run the model"
   ]
  },
  {
   "cell_type": "code",
   "execution_count": 36,
   "metadata": {},
   "outputs": [],
   "source": [
    "#Create optimizer with non-default learning rate\n",
    "sgd_optimizer = tf.keras.optimizers.SGD(lr=0.001)\n",
    "\n",
    "#Compile the model\n",
    "model.compile(optimizer=sgd_optimizer, loss='categorical_crossentropy', metrics=['accuracy'])"
   ]
  },
  {
   "cell_type": "code",
   "execution_count": 37,
   "metadata": {},
   "outputs": [
    {
     "name": "stdout",
     "output_type": "stream",
     "text": [
      "Train on 60000 samples, validate on 10000 samples\n",
      "Epoch 1/30\n",
      "60000/60000 [==============================] - 4s 69us/step - loss: 0.4011 - acc: 0.8591 - val_loss: 0.4595 - val_acc: 0.8437\n",
      "Epoch 2/30\n",
      "60000/60000 [==============================] - 4s 65us/step - loss: 0.3982 - acc: 0.8603 - val_loss: 0.4566 - val_acc: 0.8435\n",
      "Epoch 3/30\n",
      "60000/60000 [==============================] - 4s 71us/step - loss: 0.3982 - acc: 0.8598 - val_loss: 0.4646 - val_acc: 0.8427\n",
      "Epoch 4/30\n",
      "60000/60000 [==============================] - 4s 67us/step - loss: 0.3960 - acc: 0.8605 - val_loss: 0.4566 - val_acc: 0.8429\n",
      "Epoch 5/30\n",
      "60000/60000 [==============================] - 4s 66us/step - loss: 0.4008 - acc: 0.8595 - val_loss: 0.4705 - val_acc: 0.8435\n",
      "Epoch 6/30\n",
      "60000/60000 [==============================] - 4s 66us/step - loss: 0.3989 - acc: 0.8588 - val_loss: 0.4577 - val_acc: 0.8451\n",
      "Epoch 7/30\n",
      "60000/60000 [==============================] - 4s 71us/step - loss: 0.3999 - acc: 0.8605 - val_loss: 0.4581 - val_acc: 0.8435\n",
      "Epoch 8/30\n",
      "60000/60000 [==============================] - 4s 68us/step - loss: 0.3988 - acc: 0.8610 - val_loss: 0.4619 - val_acc: 0.8439\n",
      "Epoch 9/30\n",
      "60000/60000 [==============================] - 4s 73us/step - loss: 0.3973 - acc: 0.8604 - val_loss: 0.4598 - val_acc: 0.8437\n",
      "Epoch 10/30\n",
      "60000/60000 [==============================] - 4s 70us/step - loss: 0.3972 - acc: 0.8612 - val_loss: 0.4546 - val_acc: 0.8441\n",
      "Epoch 11/30\n",
      "60000/60000 [==============================] - 4s 71us/step - loss: 0.3978 - acc: 0.8609 - val_loss: 0.4537 - val_acc: 0.8433\n",
      "Epoch 12/30\n",
      "60000/60000 [==============================] - 4s 65us/step - loss: 0.3978 - acc: 0.8594 - val_loss: 0.4606 - val_acc: 0.8454\n",
      "Epoch 13/30\n",
      "60000/60000 [==============================] - 4s 66us/step - loss: 0.3963 - acc: 0.8597 - val_loss: 0.4584 - val_acc: 0.8437\n",
      "Epoch 14/30\n",
      "60000/60000 [==============================] - 4s 67us/step - loss: 0.3960 - acc: 0.8616 - val_loss: 0.4663 - val_acc: 0.8432\n",
      "Epoch 15/30\n",
      "60000/60000 [==============================] - 5s 76us/step - loss: 0.3971 - acc: 0.8610 - val_loss: 0.4581 - val_acc: 0.8439\n",
      "Epoch 16/30\n",
      "60000/60000 [==============================] - 4s 68us/step - loss: 0.3949 - acc: 0.8616 - val_loss: 0.4656 - val_acc: 0.8424\n",
      "Epoch 17/30\n",
      "60000/60000 [==============================] - 4s 69us/step - loss: 0.3973 - acc: 0.8613 - val_loss: 0.4562 - val_acc: 0.8438\n",
      "Epoch 18/30\n",
      "60000/60000 [==============================] - 5s 75us/step - loss: 0.3974 - acc: 0.8615 - val_loss: 0.4603 - val_acc: 0.8435\n",
      "Epoch 19/30\n",
      "60000/60000 [==============================] - 5s 80us/step - loss: 0.3967 - acc: 0.8619 - val_loss: 0.4592 - val_acc: 0.8433\n",
      "Epoch 20/30\n",
      "60000/60000 [==============================] - 4s 70us/step - loss: 0.3990 - acc: 0.8611 - val_loss: 0.4574 - val_acc: 0.8439\n",
      "Epoch 21/30\n",
      "60000/60000 [==============================] - 4s 70us/step - loss: 0.3964 - acc: 0.8611 - val_loss: 0.4613 - val_acc: 0.8431\n",
      "Epoch 22/30\n",
      "60000/60000 [==============================] - 4s 74us/step - loss: 0.3975 - acc: 0.8616 - val_loss: 0.4522 - val_acc: 0.8437\n",
      "Epoch 23/30\n",
      "60000/60000 [==============================] - 4s 69us/step - loss: 0.3981 - acc: 0.8594 - val_loss: 0.4536 - val_acc: 0.8431\n",
      "Epoch 24/30\n",
      "60000/60000 [==============================] - 4s 65us/step - loss: 0.3954 - acc: 0.8615 - val_loss: 0.4640 - val_acc: 0.8432\n",
      "Epoch 25/30\n",
      "60000/60000 [==============================] - 4s 72us/step - loss: 0.3938 - acc: 0.8612 - val_loss: 0.4609 - val_acc: 0.8436\n",
      "Epoch 26/30\n",
      "60000/60000 [==============================] - 5s 75us/step - loss: 0.3980 - acc: 0.8600 - val_loss: 0.4598 - val_acc: 0.8431\n",
      "Epoch 27/30\n",
      "60000/60000 [==============================] - 4s 72us/step - loss: 0.3949 - acc: 0.8619 - val_loss: 0.4551 - val_acc: 0.8452\n",
      "Epoch 28/30\n",
      "60000/60000 [==============================] - 4s 73us/step - loss: 0.3965 - acc: 0.8621 - val_loss: 0.4585 - val_acc: 0.8437\n",
      "Epoch 29/30\n",
      "60000/60000 [==============================] - 4s 68us/step - loss: 0.3961 - acc: 0.8617 - val_loss: 0.4614 - val_acc: 0.8427\n",
      "Epoch 30/30\n",
      "60000/60000 [==============================] - 4s 75us/step - loss: 0.3968 - acc: 0.8609 - val_loss: 0.4585 - val_acc: 0.8444\n"
     ]
    },
    {
     "data": {
      "text/plain": [
       "<tensorflow.python.keras.callbacks.History at 0x24f7a6b47b8>"
      ]
     },
     "execution_count": 37,
     "metadata": {},
     "output_type": "execute_result"
    }
   ],
   "source": [
    "model.fit(trainX,trainY,          \n",
    "          validation_data=(testX,testY),\n",
    "          epochs=30,\n",
    "          batch_size=32)"
   ]
  },
  {
   "cell_type": "markdown",
   "metadata": {
    "slideshow": {
     "slide_type": "slide"
    }
   },
   "source": [
    "### Build the Neural Network model with 3 Dense layers with 30(feel free to play with the no.of neurons and the layers),10 neurons respectively in each layer. Use cross entropy loss function and singmoid as activation in the hidden layers and softmax as activation function in the output layer. Use sgd optimizer with learning rate 0.03."
   ]
  },
  {
   "cell_type": "code",
   "execution_count": 8,
   "metadata": {},
   "outputs": [],
   "source": [
    "tf.reset_default_graph()\n",
    "#Initialize Sequential model\n",
    "model = tf.keras.models.Sequential()\n",
    "\n",
    "#Reshape data from 2D to 1D -> 28x28 to 784\n",
    "model.add(tf.keras.layers.Reshape((784,),input_shape=(28,28,)))\n",
    "\n",
    "#Normalize the data\n",
    "model.add(tf.keras.layers.BatchNormalization())"
   ]
  },
  {
   "cell_type": "code",
   "execution_count": 9,
   "metadata": {},
   "outputs": [],
   "source": [
    "#Add 1st hidden layer\n",
    "model.add(tf.keras.layers.Dense(30, activation='sigmoid'))"
   ]
  },
  {
   "cell_type": "code",
   "execution_count": 10,
   "metadata": {},
   "outputs": [],
   "source": [
    "#Add 2nd hidden layer\n",
    "model.add(tf.keras.layers.Dense(10, activation='sigmoid'))"
   ]
  },
  {
   "cell_type": "code",
   "execution_count": 11,
   "metadata": {},
   "outputs": [],
   "source": [
    "#Add 3rd hidden layer\n",
    "model.add(tf.keras.layers.Dense(10, activation='sigmoid'))"
   ]
  },
  {
   "cell_type": "code",
   "execution_count": 12,
   "metadata": {},
   "outputs": [],
   "source": [
    "#Add OUTPUT layer\n",
    "model.add(tf.keras.layers.Dense(10, activation='softmax'))"
   ]
  },
  {
   "cell_type": "code",
   "execution_count": 29,
   "metadata": {},
   "outputs": [],
   "source": [
    "#Create optimizer with non-default learning rate\n",
    "sgd_optimizer = tf.keras.optimizers.SGD(lr=0.03)\n",
    "\n",
    "#Compile the model\n",
    "model.compile(optimizer=sgd_optimizer, loss='categorical_crossentropy', metrics=['accuracy'])"
   ]
  },
  {
   "cell_type": "markdown",
   "metadata": {
    "slideshow": {
     "slide_type": "slide"
    }
   },
   "source": [
    "## Review model"
   ]
  },
  {
   "cell_type": "code",
   "execution_count": 30,
   "metadata": {},
   "outputs": [
    {
     "name": "stdout",
     "output_type": "stream",
     "text": [
      "_________________________________________________________________\n",
      "Layer (type)                 Output Shape              Param #   \n",
      "=================================================================\n",
      "reshape (Reshape)            (None, 784)               0         \n",
      "_________________________________________________________________\n",
      "batch_normalization (BatchNo (None, 784)               3136      \n",
      "_________________________________________________________________\n",
      "dense (Dense)                (None, 30)                23550     \n",
      "_________________________________________________________________\n",
      "dense_1 (Dense)              (None, 10)                310       \n",
      "_________________________________________________________________\n",
      "dense_2 (Dense)              (None, 10)                110       \n",
      "_________________________________________________________________\n",
      "dense_3 (Dense)              (None, 10)                110       \n",
      "=================================================================\n",
      "Total params: 27,216\n",
      "Trainable params: 25,648\n",
      "Non-trainable params: 1,568\n",
      "_________________________________________________________________\n"
     ]
    }
   ],
   "source": [
    "model.summary()"
   ]
  },
  {
   "cell_type": "markdown",
   "metadata": {
    "slideshow": {
     "slide_type": "slide"
    }
   },
   "source": [
    "### Run the model"
   ]
  },
  {
   "cell_type": "code",
   "execution_count": 31,
   "metadata": {},
   "outputs": [
    {
     "name": "stdout",
     "output_type": "stream",
     "text": [
      "Train on 60000 samples, validate on 10000 samples\n",
      "Epoch 1/30\n",
      "60000/60000 [==============================] - 5s 87us/step - loss: 1.3909 - acc: 0.5029 - val_loss: 1.2157 - val_acc: 0.5966\n",
      "Epoch 2/30\n",
      "60000/60000 [==============================] - 6s 92us/step - loss: 1.1293 - acc: 0.6110 - val_loss: 1.0345 - val_acc: 0.6615\n",
      "Epoch 3/30\n",
      "60000/60000 [==============================] - 5s 82us/step - loss: 0.9821 - acc: 0.6667 - val_loss: 0.9209 - val_acc: 0.7083\n",
      "Epoch 4/30\n",
      "60000/60000 [==============================] - 5s 88us/step - loss: 0.8885 - acc: 0.6965 - val_loss: 0.8418 - val_acc: 0.7175\n",
      "Epoch 5/30\n",
      "60000/60000 [==============================] - 6s 93us/step - loss: 0.8189 - acc: 0.7162 - val_loss: 0.7778 - val_acc: 0.7192\n",
      "Epoch 6/30\n",
      "60000/60000 [==============================] - 6s 97us/step - loss: 0.7609 - acc: 0.7331 - val_loss: 0.7276 - val_acc: 0.7665\n",
      "Epoch 7/30\n",
      "60000/60000 [==============================] - 6s 100us/step - loss: 0.7112 - acc: 0.7530 - val_loss: 0.6807 - val_acc: 0.7551\n",
      "Epoch 8/30\n",
      "60000/60000 [==============================] - 5s 88us/step - loss: 0.6659 - acc: 0.7755 - val_loss: 0.6352 - val_acc: 0.7920\n",
      "Epoch 9/30\n",
      "60000/60000 [==============================] - 5s 91us/step - loss: 0.6208 - acc: 0.7948 - val_loss: 0.5960 - val_acc: 0.8056\n",
      "Epoch 10/30\n",
      "60000/60000 [==============================] - 5s 91us/step - loss: 0.5815 - acc: 0.8069 - val_loss: 0.5656 - val_acc: 0.8191\n",
      "Epoch 11/30\n",
      "60000/60000 [==============================] - 5s 87us/step - loss: 0.5483 - acc: 0.8162 - val_loss: 0.5451 - val_acc: 0.8202\n",
      "Epoch 12/30\n",
      "60000/60000 [==============================] - 5s 89us/step - loss: 0.5225 - acc: 0.8241 - val_loss: 0.5229 - val_acc: 0.8267\n",
      "Epoch 13/30\n",
      "60000/60000 [==============================] - 7s 111us/step - loss: 0.5001 - acc: 0.8333 - val_loss: 0.5065 - val_acc: 0.8294\n",
      "Epoch 14/30\n",
      "60000/60000 [==============================] - 6s 96us/step - loss: 0.4836 - acc: 0.8367 - val_loss: 0.4886 - val_acc: 0.8394\n",
      "Epoch 15/30\n",
      "60000/60000 [==============================] - 6s 94us/step - loss: 0.4661 - acc: 0.8435 - val_loss: 0.4827 - val_acc: 0.8388\n",
      "Epoch 16/30\n",
      "60000/60000 [==============================] - 5s 88us/step - loss: 0.4549 - acc: 0.8479 - val_loss: 0.4749 - val_acc: 0.8431\n",
      "Epoch 17/30\n",
      "60000/60000 [==============================] - 6s 101us/step - loss: 0.4398 - acc: 0.8518 - val_loss: 0.4640 - val_acc: 0.8495\n",
      "Epoch 18/30\n",
      "60000/60000 [==============================] - 5s 84us/step - loss: 0.4326 - acc: 0.8538 - val_loss: 0.4538 - val_acc: 0.8488\n",
      "Epoch 19/30\n",
      "60000/60000 [==============================] - 5s 91us/step - loss: 0.4223 - acc: 0.8556 - val_loss: 0.4523 - val_acc: 0.8497\n",
      "Epoch 20/30\n",
      "60000/60000 [==============================] - 7s 120us/step - loss: 0.4147 - acc: 0.8588 - val_loss: 0.4384 - val_acc: 0.8545\n",
      "Epoch 21/30\n",
      "60000/60000 [==============================] - 7s 122us/step - loss: 0.4064 - acc: 0.8623 - val_loss: 0.4388 - val_acc: 0.8547\n",
      "Epoch 22/30\n",
      "60000/60000 [==============================] - 9s 157us/step - loss: 0.3971 - acc: 0.8647 - val_loss: 0.4422 - val_acc: 0.8515\n",
      "Epoch 23/30\n",
      "60000/60000 [==============================] - 5s 87us/step - loss: 0.3948 - acc: 0.8633 - val_loss: 0.4270 - val_acc: 0.8571\n",
      "Epoch 24/30\n",
      "60000/60000 [==============================] - 5s 90us/step - loss: 0.3845 - acc: 0.8674 - val_loss: 0.4242 - val_acc: 0.8546\n",
      "Epoch 25/30\n",
      "60000/60000 [==============================] - 5s 84us/step - loss: 0.3794 - acc: 0.8696 - val_loss: 0.4185 - val_acc: 0.8598\n",
      "Epoch 26/30\n",
      "60000/60000 [==============================] - 5s 90us/step - loss: 0.3738 - acc: 0.8703 - val_loss: 0.4130 - val_acc: 0.8585\n",
      "Epoch 27/30\n",
      "60000/60000 [==============================] - 6s 99us/step - loss: 0.3674 - acc: 0.8712 - val_loss: 0.4193 - val_acc: 0.8606\n",
      "Epoch 28/30\n",
      "60000/60000 [==============================] - 5s 90us/step - loss: 0.3660 - acc: 0.8730 - val_loss: 0.4165 - val_acc: 0.8594\n",
      "Epoch 29/30\n",
      "60000/60000 [==============================] - 5s 88us/step - loss: 0.3588 - acc: 0.8747 - val_loss: 0.4145 - val_acc: 0.8594\n",
      "Epoch 30/30\n",
      "60000/60000 [==============================] - 5s 91us/step - loss: 0.3544 - acc: 0.8766 - val_loss: 0.4061 - val_acc: 0.8629\n"
     ]
    },
    {
     "data": {
      "text/plain": [
       "<tensorflow.python.keras.callbacks.History at 0x1b54e3ef940>"
      ]
     },
     "execution_count": 31,
     "metadata": {},
     "output_type": "execute_result"
    }
   ],
   "source": [
    "model.fit(trainX,trainY,          \n",
    "          validation_data=(testX,testY),\n",
    "          epochs=30,\n",
    "          batch_size=32)"
   ]
  },
  {
   "cell_type": "code",
   "execution_count": null,
   "metadata": {},
   "outputs": [],
   "source": []
  }
 ],
 "metadata": {
  "kernelspec": {
   "display_name": "Python 3",
   "language": "python",
   "name": "python3"
  },
  "language_info": {
   "codemirror_mode": {
    "name": "ipython",
    "version": 3
   },
   "file_extension": ".py",
   "mimetype": "text/x-python",
   "name": "python",
   "nbconvert_exporter": "python",
   "pygments_lexer": "ipython3",
   "version": "3.6.6"
  }
 },
 "nbformat": 4,
 "nbformat_minor": 2
}
